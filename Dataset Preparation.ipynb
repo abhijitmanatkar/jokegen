{
 "cells": [
  {
   "cell_type": "code",
   "execution_count": 95,
   "id": "916a656d",
   "metadata": {
    "scrolled": true
   },
   "outputs": [
    {
     "name": "stdout",
     "output_type": "stream",
     "text": [
      "list.txt\t   rjokesdata_preprocessed.csv\t   stupidstuff.json\r\n",
      "preprocessed.csv   rjokesdata_preprocessed.csv.gz  wocka.json\r\n",
      "reddit_jokes.json  shortjokes.csv\r\n"
     ]
    }
   ],
   "source": [
    "!ls datasets/"
   ]
  },
  {
   "cell_type": "code",
   "execution_count": 96,
   "id": "dd9e8703",
   "metadata": {},
   "outputs": [],
   "source": [
    "import pandas as pd\n",
    "import json"
   ]
  },
  {
   "cell_type": "code",
   "execution_count": 97,
   "id": "c598bc34",
   "metadata": {},
   "outputs": [],
   "source": [
    "joke_len = 200"
   ]
  },
  {
   "cell_type": "code",
   "execution_count": 98,
   "id": "74d1b667",
   "metadata": {},
   "outputs": [],
   "source": [
    "joke_collection = []"
   ]
  },
  {
   "cell_type": "code",
   "execution_count": 99,
   "id": "3b912758",
   "metadata": {},
   "outputs": [],
   "source": [
    "def is_valid(joke):\n",
    "    if type(joke) == str:\n",
    "        if len(joke) < joke_len and len(joke) > 10 and '?' in joke:\n",
    "            return True\n",
    "    return False"
   ]
  },
  {
   "cell_type": "code",
   "execution_count": 100,
   "id": "a208363b",
   "metadata": {},
   "outputs": [],
   "source": [
    "ds1 = pd.read_csv(\"datasets/preprocessed.csv\")"
   ]
  },
  {
   "cell_type": "code",
   "execution_count": 101,
   "id": "dafa8157",
   "metadata": {},
   "outputs": [],
   "source": [
    "# for ds1\n",
    "ds1_p = ds1[ds1[\"score\"] > 0]\n",
    "jokes = ds1_p[\"joke\"]\n",
    "df = []\n",
    "for i in jokes:\n",
    "    if is_valid(i):\n",
    "        joke_collection.append(i)"
   ]
  },
  {
   "cell_type": "code",
   "execution_count": 102,
   "id": "38a71f43",
   "metadata": {},
   "outputs": [],
   "source": [
    "ds2 = pd.read_csv(\"datasets/shortjokes.csv\")"
   ]
  },
  {
   "cell_type": "code",
   "execution_count": 103,
   "id": "b2788e7c",
   "metadata": {},
   "outputs": [],
   "source": [
    "for i in ds2[\"Joke\"]:\n",
    "    if is_valid(i):\n",
    "        joke_collection.append(i)"
   ]
  },
  {
   "cell_type": "code",
   "execution_count": 104,
   "id": "beb952a0",
   "metadata": {},
   "outputs": [],
   "source": [
    "ds3 = open(\"datasets/reddit_jokes.json\")\n",
    "ds3_d = json.load(ds3)"
   ]
  },
  {
   "cell_type": "code",
   "execution_count": 105,
   "id": "0a926245",
   "metadata": {},
   "outputs": [],
   "source": [
    "for j in ds3_d:\n",
    "    i = j[\"body\"] + \" \" + j[\"title\"]\n",
    "    if is_valid(i):\n",
    "        joke_collection.append(i)"
   ]
  },
  {
   "cell_type": "code",
   "execution_count": 106,
   "id": "0c037cc2",
   "metadata": {},
   "outputs": [],
   "source": [
    "ds4 = open(\"datasets/wocka.json\")\n",
    "ds4_d = json.load(ds4)"
   ]
  },
  {
   "cell_type": "code",
   "execution_count": 107,
   "id": "63aa1c5b",
   "metadata": {},
   "outputs": [],
   "source": [
    "for j in ds4_d:\n",
    "    i = j[\"body\"] + \" \" + j[\"title\"]\n",
    "    if is_valid(i):\n",
    "        joke_collection.append(i)"
   ]
  },
  {
   "cell_type": "code",
   "execution_count": 108,
   "id": "ae113c10",
   "metadata": {},
   "outputs": [],
   "source": [
    "ds5 = open(\"datasets/stupidstuff.json\")\n",
    "ds5_d = json.load(ds5)"
   ]
  },
  {
   "cell_type": "code",
   "execution_count": 109,
   "id": "ac4ddad1",
   "metadata": {},
   "outputs": [],
   "source": [
    "for j in ds5_d:\n",
    "    i = j[\"body\"]\n",
    "    if is_valid(i):\n",
    "        joke_collection.append(i)"
   ]
  },
  {
   "cell_type": "code",
   "execution_count": 110,
   "id": "92da95fd",
   "metadata": {},
   "outputs": [
    {
     "data": {
      "text/plain": [
       "372858"
      ]
     },
     "execution_count": 110,
     "metadata": {},
     "output_type": "execute_result"
    }
   ],
   "source": [
    "len(joke_collection)"
   ]
  },
  {
   "cell_type": "code",
   "execution_count": 111,
   "id": "55a42f11",
   "metadata": {},
   "outputs": [
    {
     "data": {
      "text/plain": [
       "321999"
      ]
     },
     "execution_count": 111,
     "metadata": {},
     "output_type": "execute_result"
    }
   ],
   "source": [
    "joke_collection = list(set(joke_collection))\n",
    "len(joke_collection)"
   ]
  },
  {
   "cell_type": "code",
   "execution_count": 115,
   "id": "1aa49b85",
   "metadata": {},
   "outputs": [],
   "source": [
    "joke_collection = [i.replace(\"\\n\",\" \") for i in joke_collection]"
   ]
  },
  {
   "cell_type": "code",
   "execution_count": 117,
   "id": "565d4ce9",
   "metadata": {
    "scrolled": true
   },
   "outputs": [
    {
     "data": {
      "text/plain": [
       "321999"
      ]
     },
     "execution_count": 117,
     "metadata": {},
     "output_type": "execute_result"
    }
   ],
   "source": [
    "len(joke_collection)"
   ]
  },
  {
   "cell_type": "code",
   "execution_count": 118,
   "id": "ac03375c",
   "metadata": {},
   "outputs": [],
   "source": [
    "import random"
   ]
  },
  {
   "cell_type": "code",
   "execution_count": 119,
   "id": "b8f1c9d2",
   "metadata": {},
   "outputs": [],
   "source": [
    "random.shuffle(joke_collection)\n",
    "tenth = len(joke_collection)//10\n",
    "train = joke_collection[:8*tenth]\n",
    "test = joke_collection[8*tenth:9*tenth]\n",
    "valid = joke_collection[9*tenth:]"
   ]
  },
  {
   "cell_type": "code",
   "execution_count": 120,
   "id": "e5e89b4b",
   "metadata": {},
   "outputs": [],
   "source": [
    "with open(\"train.txt\",\"w\") as f:\n",
    "    for i in train:\n",
    "        f.write(f\"{i}\\n\")\n",
    "with open(\"test.txt\",\"w\") as f:\n",
    "    for i in test:\n",
    "        f.write(f\"{i}\\n\")\n",
    "with open(\"valid.txt\",\"w\") as f:\n",
    "    for i in valid:\n",
    "        f.write(f\"{i}\\n\")"
   ]
  },
  {
   "cell_type": "code",
   "execution_count": null,
   "id": "75a2edd8",
   "metadata": {},
   "outputs": [],
   "source": []
  }
 ],
 "metadata": {
  "kernelspec": {
   "display_name": "Python 3 (ipykernel)",
   "language": "python",
   "name": "python3"
  },
  "language_info": {
   "codemirror_mode": {
    "name": "ipython",
    "version": 3
   },
   "file_extension": ".py",
   "mimetype": "text/x-python",
   "name": "python",
   "nbconvert_exporter": "python",
   "pygments_lexer": "ipython3",
   "version": "3.10.6"
  }
 },
 "nbformat": 4,
 "nbformat_minor": 5
}
