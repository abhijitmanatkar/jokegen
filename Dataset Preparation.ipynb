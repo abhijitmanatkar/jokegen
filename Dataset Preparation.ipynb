{
 "cells": [
  {
   "cell_type": "code",
   "execution_count": 125,
   "id": "8176903a",
   "metadata": {
    "scrolled": true
   },
   "outputs": [
    {
     "name": "stdout",
     "output_type": "stream",
     "text": [
      "list.txt\t   rjokesdata_preprocessed.csv\t   stupidstuff.json\r\n",
      "preprocessed.csv   rjokesdata_preprocessed.csv.gz  wocka.json\r\n",
      "reddit_jokes.json  shortjokes.csv\r\n"
     ]
    }
   ],
   "source": [
    "!ls datasets/"
   ]
  },
  {
   "cell_type": "code",
   "execution_count": 126,
   "id": "d998238e",
   "metadata": {},
   "outputs": [],
   "source": [
    "import pandas as pd\n",
    "import json"
   ]
  },
  {
   "cell_type": "code",
   "execution_count": 127,
   "id": "f65e806a",
   "metadata": {},
   "outputs": [],
   "source": [
    "joke_len = 200"
   ]
  },
  {
   "cell_type": "code",
   "execution_count": 128,
   "id": "93e5ecae",
   "metadata": {},
   "outputs": [],
   "source": [
    "joke_collection = []"
   ]
  },
  {
   "cell_type": "code",
   "execution_count": 129,
   "id": "96fd0bc2",
   "metadata": {},
   "outputs": [],
   "source": [
    "def is_valid(joke):\n",
    "    if type(joke) == str:\n",
    "        if len(joke) < joke_len and len(joke) > 10 and '?' in joke:\n",
    "            return True\n",
    "    return False"
   ]
  },
  {
   "cell_type": "code",
   "execution_count": 130,
   "id": "322e4d7b",
   "metadata": {},
   "outputs": [],
   "source": [
    "ds1 = pd.read_csv(\"datasets/preprocessed.csv\")"
   ]
  },
  {
   "cell_type": "code",
   "execution_count": 131,
   "id": "afc01f75",
   "metadata": {},
   "outputs": [],
   "source": [
    "# for ds1\n",
    "ds1_p = ds1[ds1[\"score\"] > 0]\n",
    "jokes = ds1_p[\"joke\"]\n",
    "df = []\n",
    "for i in jokes:\n",
    "    if is_valid(i):\n",
    "        joke_collection.append(i)"
   ]
  },
  {
   "cell_type": "code",
   "execution_count": null,
   "id": "7b5da91a",
   "metadata": {},
   "outputs": [],
   "source": [
    "ds2 = pd.read_csv(\"datasets/shortjokes.csv\")"
   ]
  },
  {
   "cell_type": "code",
   "execution_count": null,
   "id": "8b9b2660",
   "metadata": {},
   "outputs": [],
   "source": [
    "for i in ds2[\"Joke\"]:\n",
    "    if is_valid(i):\n",
    "        joke_collection.append(i)"
   ]
  },
  {
   "cell_type": "code",
   "execution_count": null,
   "id": "2098cfc4",
   "metadata": {},
   "outputs": [],
   "source": [
    "ds3 = open(\"datasets/reddit_jokes.json\")\n",
    "ds3_d = json.load(ds3)"
   ]
  },
  {
   "cell_type": "code",
   "execution_count": null,
   "id": "78f33bf6",
   "metadata": {},
   "outputs": [],
   "source": [
    "for j in ds3_d:\n",
    "    i = j[\"title\"] + j[\"body\"]\n",
    "    if is_valid(i):\n",
    "        joke_collection.append(i)"
   ]
  },
  {
   "cell_type": "code",
   "execution_count": null,
   "id": "77ad6dbb",
   "metadata": {},
   "outputs": [],
   "source": [
    "ds4 = open(\"datasets/wocka.json\")\n",
    "ds4_d = json.load(ds4)"
   ]
  },
  {
   "cell_type": "code",
   "execution_count": null,
   "id": "ecbb2a91",
   "metadata": {},
   "outputs": [],
   "source": [
    "for j in ds4_d:\n",
    "    i = j[\"title\"] + j[\"body\"]\n",
    "    if is_valid(i):\n",
    "        joke_collection.append(i)"
   ]
  },
  {
   "cell_type": "code",
   "execution_count": null,
   "id": "3eb9bd4c",
   "metadata": {},
   "outputs": [],
   "source": [
    "ds5 = open(\"datasets/stupidstuff.json\")\n",
    "ds5_d = json.load(ds5)"
   ]
  },
  {
   "cell_type": "code",
   "execution_count": null,
   "id": "b869d2ad",
   "metadata": {},
   "outputs": [],
   "source": [
    "for j in ds5_d:\n",
    "    i = j[\"body\"]\n",
    "    if is_valid(i):\n",
    "        joke_collection.append(i)"
   ]
  },
  {
   "cell_type": "code",
   "execution_count": null,
   "id": "a4d77a88",
   "metadata": {},
   "outputs": [],
   "source": [
    "len(joke_collection)"
   ]
  },
  {
   "cell_type": "code",
   "execution_count": null,
   "id": "83d754a1",
   "metadata": {},
   "outputs": [],
   "source": [
    "joke_collection = list(set(joke_collection))\n",
    "len(joke_collection)"
   ]
  },
  {
   "cell_type": "code",
   "execution_count": null,
   "id": "dfe6c651",
   "metadata": {},
   "outputs": [],
   "source": [
    "joke_collection = [i.replace(\"\\n\",\" \") for i in joke_collection]"
   ]
  },
  {
   "cell_type": "code",
   "execution_count": null,
   "id": "5cacae68",
   "metadata": {
    "scrolled": true
   },
   "outputs": [],
   "source": [
    "len(joke_collection)"
   ]
  },
  {
   "cell_type": "code",
   "execution_count": null,
   "id": "3cc6f9c2",
   "metadata": {},
   "outputs": [],
   "source": [
    "import random"
   ]
  },
  {
   "cell_type": "code",
   "execution_count": null,
   "id": "b2db787e",
   "metadata": {},
   "outputs": [],
   "source": [
    "random.shuffle(joke_collection)\n",
    "tenth = len(joke_collection)//10\n",
    "train = joke_collection[:8*tenth]\n",
    "test = joke_collection[8*tenth:9*tenth]\n",
    "valid = joke_collection[9*tenth:]"
   ]
  },
  {
   "cell_type": "code",
   "execution_count": null,
   "id": "80fb8262",
   "metadata": {},
   "outputs": [],
   "source": [
    "with open(\"train.txt\",\"w\") as f:\n",
    "    for i in train:\n",
    "        f.write(f\"{i}\\n\")\n",
    "with open(\"test.txt\",\"w\") as f:\n",
    "    for i in test:\n",
    "        f.write(f\"{i}\\n\")\n",
    "with open(\"valid.txt\",\"w\") as f:\n",
    "    for i in valid:\n",
    "        f.write(f\"{i}\\n\")"
   ]
  },
  {
   "cell_type": "code",
   "execution_count": null,
   "id": "fe70b0e8",
   "metadata": {},
   "outputs": [],
   "source": []
  }
 ],
 "metadata": {
  "kernelspec": {
   "display_name": "Python 3 (ipykernel)",
   "language": "python",
   "name": "python3"
  },
  "language_info": {
   "codemirror_mode": {
    "name": "ipython",
    "version": 3
   },
   "file_extension": ".py",
   "mimetype": "text/x-python",
   "name": "python",
   "nbconvert_exporter": "python",
   "pygments_lexer": "ipython3",
   "version": "3.10.6"
  }
 },
 "nbformat": 4,
 "nbformat_minor": 5
}
