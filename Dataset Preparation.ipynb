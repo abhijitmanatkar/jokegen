{
 "cells": [
  {
   "cell_type": "code",
   "execution_count": 1,
   "id": "bd9b9e98",
   "metadata": {
    "scrolled": true
   },
   "outputs": [
    {
     "name": "stdout",
     "output_type": "stream",
     "text": [
      "list.txt\t   rjokesdata_preprocessed.csv\t   stupidstuff.json\r\n",
      "preprocessed.csv   rjokesdata_preprocessed.csv.gz  wocka.json\r\n",
      "reddit_jokes.json  shortjokes.csv\r\n"
     ]
    }
   ],
   "source": [
    "!ls datasets/"
   ]
  },
  {
   "cell_type": "code",
   "execution_count": 2,
   "id": "8189bfb2",
   "metadata": {},
   "outputs": [],
   "source": [
    "import pandas as pd\n",
    "import json"
   ]
  },
  {
   "cell_type": "code",
   "execution_count": 3,
   "id": "3c59d5f6",
   "metadata": {},
   "outputs": [],
   "source": [
    "joke_len = 200"
   ]
  },
  {
   "cell_type": "code",
   "execution_count": 4,
   "id": "d47e9cb6",
   "metadata": {},
   "outputs": [],
   "source": [
    "joke_collection = []"
   ]
  },
  {
   "cell_type": "code",
   "execution_count": 5,
   "id": "b89a1bba",
   "metadata": {},
   "outputs": [],
   "source": [
    "def is_valid(joke):\n",
    "    if type(joke) == str:\n",
    "        if len(joke) < joke_len and len(joke) > 10 and '?' in joke:\n",
    "            return True\n",
    "    return False"
   ]
  },
  {
   "cell_type": "code",
   "execution_count": 6,
   "id": "de0edf5a",
   "metadata": {},
   "outputs": [],
   "source": [
    "ds1 = pd.read_csv(\"datasets/preprocessed.csv\")"
   ]
  },
  {
   "cell_type": "code",
   "execution_count": 7,
   "id": "46c06347",
   "metadata": {},
   "outputs": [],
   "source": [
    "# for ds1\n",
    "ds1_p = ds1[ds1[\"score\"] > 0]\n",
    "jokes = ds1_p[\"joke\"]\n",
    "df = []\n",
    "for i in jokes:\n",
    "    if is_valid(i):\n",
    "        joke_collection.append(i)"
   ]
  },
  {
   "cell_type": "code",
   "execution_count": 8,
   "id": "051d67df",
   "metadata": {},
   "outputs": [],
   "source": [
    "ds2 = pd.read_csv(\"datasets/shortjokes.csv\")"
   ]
  },
  {
   "cell_type": "code",
   "execution_count": 9,
   "id": "17fd4c12",
   "metadata": {},
   "outputs": [],
   "source": [
    "for i in ds2[\"Joke\"]:\n",
    "    if is_valid(i):\n",
    "        joke_collection.append(i)"
   ]
  },
  {
   "cell_type": "code",
   "execution_count": 10,
   "id": "d12edb07",
   "metadata": {},
   "outputs": [],
   "source": [
    "ds3 = open(\"datasets/reddit_jokes.json\")\n",
    "ds3_d = json.load(ds3)"
   ]
  },
  {
   "cell_type": "code",
   "execution_count": 11,
   "id": "801dfbfc",
   "metadata": {},
   "outputs": [],
   "source": [
    "for j in ds3_d:\n",
    "    i = j[\"title\"] + j[\"body\"]\n",
    "    if is_valid(i):\n",
    "        joke_collection.append(i)"
   ]
  },
  {
   "cell_type": "code",
   "execution_count": 12,
   "id": "d9abb4a1",
   "metadata": {},
   "outputs": [],
   "source": [
    "ds4 = open(\"datasets/wocka.json\")\n",
    "ds4_d = json.load(ds4)"
   ]
  },
  {
   "cell_type": "code",
   "execution_count": 13,
   "id": "9a25c1bc",
   "metadata": {},
   "outputs": [],
   "source": [
    "for j in ds4_d:\n",
    "    i = j[\"title\"] + j[\"body\"]\n",
    "    if is_valid(i):\n",
    "        joke_collection.append(i)"
   ]
  },
  {
   "cell_type": "code",
   "execution_count": 14,
   "id": "f1a73973",
   "metadata": {},
   "outputs": [],
   "source": [
    "ds5 = open(\"datasets/stupidstuff.json\")\n",
    "ds5_d = json.load(ds5)"
   ]
  },
  {
   "cell_type": "code",
   "execution_count": 15,
   "id": "66665bfc",
   "metadata": {},
   "outputs": [],
   "source": [
    "for j in ds5_d:\n",
    "    i = j[\"body\"]\n",
    "    if is_valid(i):\n",
    "        joke_collection.append(i)"
   ]
  },
  {
   "cell_type": "code",
   "execution_count": 16,
   "id": "ec959d5f",
   "metadata": {},
   "outputs": [
    {
     "data": {
      "text/plain": [
       "372930"
      ]
     },
     "execution_count": 16,
     "metadata": {},
     "output_type": "execute_result"
    }
   ],
   "source": [
    "len(joke_collection)"
   ]
  },
  {
   "cell_type": "code",
   "execution_count": 17,
   "id": "ff83eabc",
   "metadata": {},
   "outputs": [
    {
     "data": {
      "text/plain": [
       "321224"
      ]
     },
     "execution_count": 17,
     "metadata": {},
     "output_type": "execute_result"
    }
   ],
   "source": [
    "joke_collection = list(set(joke_collection))\n",
    "len(joke_collection)"
   ]
  },
  {
   "cell_type": "code",
   "execution_count": 18,
   "id": "49f2e46d",
   "metadata": {},
   "outputs": [],
   "source": [
    "joke_collection = [i.replace(\"\\n\",\" \") for i in joke_collection]"
   ]
  },
  {
   "cell_type": "code",
   "execution_count": 19,
   "id": "9c4cd777",
   "metadata": {
    "scrolled": true
   },
   "outputs": [
    {
     "data": {
      "text/plain": [
       "321224"
      ]
     },
     "execution_count": 19,
     "metadata": {},
     "output_type": "execute_result"
    }
   ],
   "source": [
    "len(joke_collection)"
   ]
  },
  {
   "cell_type": "code",
   "execution_count": 20,
   "id": "309b8eb4",
   "metadata": {},
   "outputs": [],
   "source": [
    "import random"
   ]
  },
  {
   "cell_type": "code",
   "execution_count": 21,
   "id": "289b2a3a",
   "metadata": {},
   "outputs": [],
   "source": [
    "random.shuffle(joke_collection)\n",
    "tenth = len(joke_collection)//10\n",
    "train = joke_collection[:8*tenth]\n",
    "test = joke_collection[8*tenth:9*tenth]\n",
    "valid = joke_collection[9*tenth:]"
   ]
  },
  {
   "cell_type": "code",
   "execution_count": 22,
   "id": "ffaf8952",
   "metadata": {},
   "outputs": [],
   "source": [
    "with open(\"train.txt\",\"w\") as f:\n",
    "    for i in train:\n",
    "        f.write(f\"{i}\\n\")\n",
    "with open(\"test.txt\",\"w\") as f:\n",
    "    for i in test:\n",
    "        f.write(f\"{i}\\n\")\n",
    "with open(\"valid.txt\",\"w\") as f:\n",
    "    for i in valid:\n",
    "        f.write(f\"{i}\\n\")"
   ]
  },
  {
   "cell_type": "code",
   "execution_count": null,
   "id": "e73c0835",
   "metadata": {},
   "outputs": [],
   "source": []
  }
 ],
 "metadata": {
  "kernelspec": {
   "display_name": "Python 3 (ipykernel)",
   "language": "python",
   "name": "python3"
  },
  "language_info": {
   "codemirror_mode": {
    "name": "ipython",
    "version": 3
   },
   "file_extension": ".py",
   "mimetype": "text/x-python",
   "name": "python",
   "nbconvert_exporter": "python",
   "pygments_lexer": "ipython3",
   "version": "3.10.6"
  }
 },
 "nbformat": 4,
 "nbformat_minor": 5
}
