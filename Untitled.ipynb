{
 "cells": [
  {
   "cell_type": "code",
   "execution_count": 95,
   "id": "66e25c1c",
   "metadata": {
    "scrolled": true
   },
   "outputs": [
    {
     "name": "stdout",
     "output_type": "stream",
     "text": [
      "list.txt\t   rjokesdata_preprocessed.csv\t   stupidstuff.json\r\n",
      "preprocessed.csv   rjokesdata_preprocessed.csv.gz  wocka.json\r\n",
      "reddit_jokes.json  shortjokes.csv\r\n"
     ]
    }
   ],
   "source": [
    "!ls datasets/"
   ]
  },
  {
   "cell_type": "code",
   "execution_count": 96,
   "id": "405126a1",
   "metadata": {},
   "outputs": [],
   "source": [
    "import pandas as pd\n",
    "import json"
   ]
  },
  {
   "cell_type": "code",
   "execution_count": 97,
   "id": "4704b9b1",
   "metadata": {},
   "outputs": [],
   "source": [
    "joke_len = 200"
   ]
  },
  {
   "cell_type": "code",
   "execution_count": 98,
   "id": "853d1d8b",
   "metadata": {},
   "outputs": [],
   "source": [
    "joke_collection = []"
   ]
  },
  {
   "cell_type": "code",
   "execution_count": 99,
   "id": "07b729a8",
   "metadata": {},
   "outputs": [],
   "source": [
    "def is_valid(joke):\n",
    "    if type(joke) == str:\n",
    "        if len(joke) < joke_len and len(joke) > 10 and '?' in joke:\n",
    "            return True\n",
    "    return False"
   ]
  },
  {
   "cell_type": "code",
   "execution_count": 100,
   "id": "3d3f3e2d",
   "metadata": {},
   "outputs": [],
   "source": [
    "ds1 = pd.read_csv(\"datasets/preprocessed.csv\")"
   ]
  },
  {
   "cell_type": "code",
   "execution_count": 101,
   "id": "d9e6ee1b",
   "metadata": {},
   "outputs": [],
   "source": [
    "# for ds1\n",
    "ds1_p = ds1[ds1[\"score\"] > 0]\n",
    "jokes = ds1_p[\"joke\"]\n",
    "df = []\n",
    "for i in jokes:\n",
    "    if is_valid(i):\n",
    "        joke_collection.append(i)"
   ]
  },
  {
   "cell_type": "code",
   "execution_count": 102,
   "id": "420509a1",
   "metadata": {},
   "outputs": [],
   "source": [
    "ds2 = pd.read_csv(\"datasets/shortjokes.csv\")"
   ]
  },
  {
   "cell_type": "code",
   "execution_count": 103,
   "id": "bd5a024f",
   "metadata": {},
   "outputs": [],
   "source": [
    "for i in ds2[\"Joke\"]:\n",
    "    if is_valid(i):\n",
    "        joke_collection.append(i)"
   ]
  },
  {
   "cell_type": "code",
   "execution_count": 104,
   "id": "c2451f05",
   "metadata": {},
   "outputs": [],
   "source": [
    "ds3 = open(\"datasets/reddit_jokes.json\")\n",
    "ds3_d = json.load(ds3)"
   ]
  },
  {
   "cell_type": "code",
   "execution_count": 105,
   "id": "f3725933",
   "metadata": {},
   "outputs": [],
   "source": [
    "for j in ds3_d:\n",
    "    i = j[\"body\"] + \" \" + j[\"title\"]\n",
    "    if is_valid(i):\n",
    "        joke_collection.append(i)"
   ]
  },
  {
   "cell_type": "code",
   "execution_count": 106,
   "id": "97c51839",
   "metadata": {},
   "outputs": [],
   "source": [
    "ds4 = open(\"datasets/wocka.json\")\n",
    "ds4_d = json.load(ds4)"
   ]
  },
  {
   "cell_type": "code",
   "execution_count": 107,
   "id": "78da789d",
   "metadata": {},
   "outputs": [],
   "source": [
    "for j in ds4_d:\n",
    "    i = j[\"body\"] + \" \" + j[\"title\"]\n",
    "    if is_valid(i):\n",
    "        joke_collection.append(i)"
   ]
  },
  {
   "cell_type": "code",
   "execution_count": 108,
   "id": "3f2d8cbf",
   "metadata": {},
   "outputs": [],
   "source": [
    "ds5 = open(\"datasets/stupidstuff.json\")\n",
    "ds5_d = json.load(ds5)"
   ]
  },
  {
   "cell_type": "code",
   "execution_count": 109,
   "id": "27e45931",
   "metadata": {},
   "outputs": [],
   "source": [
    "for j in ds5_d:\n",
    "    i = j[\"body\"]\n",
    "    if is_valid(i):\n",
    "        joke_collection.append(i)"
   ]
  },
  {
   "cell_type": "code",
   "execution_count": 110,
   "id": "390c9486",
   "metadata": {},
   "outputs": [
    {
     "data": {
      "text/plain": [
       "372858"
      ]
     },
     "execution_count": 110,
     "metadata": {},
     "output_type": "execute_result"
    }
   ],
   "source": [
    "len(joke_collection)"
   ]
  },
  {
   "cell_type": "code",
   "execution_count": 111,
   "id": "e4a2b339",
   "metadata": {},
   "outputs": [
    {
     "data": {
      "text/plain": [
       "321999"
      ]
     },
     "execution_count": 111,
     "metadata": {},
     "output_type": "execute_result"
    }
   ],
   "source": [
    "joke_collection = list(set(joke_collection))\n",
    "len(joke_collection)"
   ]
  },
  {
   "cell_type": "code",
   "execution_count": 115,
   "id": "e0d30ff9",
   "metadata": {},
   "outputs": [],
   "source": [
    "joke_collection = [i.replace(\"\\n\",\" \") for i in joke_collection]"
   ]
  },
  {
   "cell_type": "code",
   "execution_count": 117,
   "id": "d1823d19",
   "metadata": {},
   "outputs": [
    {
     "data": {
      "text/plain": [
       "321999"
      ]
     },
     "execution_count": 117,
     "metadata": {},
     "output_type": "execute_result"
    }
   ],
   "source": [
    "len(joke_collection)"
   ]
  },
  {
   "cell_type": "code",
   "execution_count": 116,
   "id": "b1226961",
   "metadata": {},
   "outputs": [],
   "source": [
    "with open(\"processed_jokes.txt\",\"w\") as f:\n",
    "    for i in joke_collection:\n",
    "        f.write(f\"{i}\\n\")"
   ]
  },
  {
   "cell_type": "code",
   "execution_count": null,
   "id": "1fd82004",
   "metadata": {},
   "outputs": [],
   "source": []
  }
 ],
 "metadata": {
  "kernelspec": {
   "display_name": "Python 3 (ipykernel)",
   "language": "python",
   "name": "python3"
  },
  "language_info": {
   "codemirror_mode": {
    "name": "ipython",
    "version": 3
   },
   "file_extension": ".py",
   "mimetype": "text/x-python",
   "name": "python",
   "nbconvert_exporter": "python",
   "pygments_lexer": "ipython3",
   "version": "3.10.6"
  }
 },
 "nbformat": 4,
 "nbformat_minor": 5
}
